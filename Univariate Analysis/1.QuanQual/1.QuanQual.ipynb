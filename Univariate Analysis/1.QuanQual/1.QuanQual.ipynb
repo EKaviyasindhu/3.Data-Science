{
 "cells": [
  {
   "cell_type": "code",
   "execution_count": 1,
   "id": "300bc750-53f2-434b-9b5c-ee6b3b552917",
   "metadata": {},
   "outputs": [],
   "source": [
    "import pandas as pd"
   ]
  },
  {
   "cell_type": "code",
   "execution_count": 2,
   "id": "5e1e6d1a-15f5-42e0-835a-0f0640fbf970",
   "metadata": {},
   "outputs": [],
   "source": [
    "dataset = pd.read_csv(\"Placement.csv\")"
   ]
  },
  {
   "cell_type": "code",
   "execution_count": 3,
   "id": "a0565aec-f734-4811-9383-8d2e6b25f9f2",
   "metadata": {},
   "outputs": [
    {
     "data": {
      "text/html": [
       "<div>\n",
       "<style scoped>\n",
       "    .dataframe tbody tr th:only-of-type {\n",
       "        vertical-align: middle;\n",
       "    }\n",
       "\n",
       "    .dataframe tbody tr th {\n",
       "        vertical-align: top;\n",
       "    }\n",
       "\n",
       "    .dataframe thead th {\n",
       "        text-align: right;\n",
       "    }\n",
       "</style>\n",
       "<table border=\"1\" class=\"dataframe\">\n",
       "  <thead>\n",
       "    <tr style=\"text-align: right;\">\n",
       "      <th></th>\n",
       "      <th>sl_no</th>\n",
       "      <th>gender</th>\n",
       "      <th>ssc_p</th>\n",
       "      <th>ssc_b</th>\n",
       "      <th>hsc_p</th>\n",
       "      <th>hsc_b</th>\n",
       "      <th>hsc_s</th>\n",
       "      <th>degree_p</th>\n",
       "      <th>degree_t</th>\n",
       "      <th>workex</th>\n",
       "      <th>etest_p</th>\n",
       "      <th>specialisation</th>\n",
       "      <th>mba_p</th>\n",
       "      <th>status</th>\n",
       "      <th>salary</th>\n",
       "    </tr>\n",
       "  </thead>\n",
       "  <tbody>\n",
       "    <tr>\n",
       "      <th>0</th>\n",
       "      <td>1</td>\n",
       "      <td>M</td>\n",
       "      <td>67.00</td>\n",
       "      <td>Others</td>\n",
       "      <td>91.00</td>\n",
       "      <td>Others</td>\n",
       "      <td>Commerce</td>\n",
       "      <td>58.00</td>\n",
       "      <td>Sci&amp;Tech</td>\n",
       "      <td>No</td>\n",
       "      <td>55.0</td>\n",
       "      <td>Mkt&amp;HR</td>\n",
       "      <td>58.80</td>\n",
       "      <td>Placed</td>\n",
       "      <td>270000.0</td>\n",
       "    </tr>\n",
       "    <tr>\n",
       "      <th>1</th>\n",
       "      <td>2</td>\n",
       "      <td>M</td>\n",
       "      <td>79.33</td>\n",
       "      <td>Central</td>\n",
       "      <td>78.33</td>\n",
       "      <td>Others</td>\n",
       "      <td>Science</td>\n",
       "      <td>77.48</td>\n",
       "      <td>Sci&amp;Tech</td>\n",
       "      <td>Yes</td>\n",
       "      <td>86.5</td>\n",
       "      <td>Mkt&amp;Fin</td>\n",
       "      <td>66.28</td>\n",
       "      <td>Placed</td>\n",
       "      <td>200000.0</td>\n",
       "    </tr>\n",
       "    <tr>\n",
       "      <th>2</th>\n",
       "      <td>3</td>\n",
       "      <td>M</td>\n",
       "      <td>65.00</td>\n",
       "      <td>Central</td>\n",
       "      <td>68.00</td>\n",
       "      <td>Central</td>\n",
       "      <td>Arts</td>\n",
       "      <td>64.00</td>\n",
       "      <td>Comm&amp;Mgmt</td>\n",
       "      <td>No</td>\n",
       "      <td>75.0</td>\n",
       "      <td>Mkt&amp;Fin</td>\n",
       "      <td>57.80</td>\n",
       "      <td>Placed</td>\n",
       "      <td>250000.0</td>\n",
       "    </tr>\n",
       "    <tr>\n",
       "      <th>3</th>\n",
       "      <td>4</td>\n",
       "      <td>M</td>\n",
       "      <td>56.00</td>\n",
       "      <td>Central</td>\n",
       "      <td>52.00</td>\n",
       "      <td>Central</td>\n",
       "      <td>Science</td>\n",
       "      <td>52.00</td>\n",
       "      <td>Sci&amp;Tech</td>\n",
       "      <td>No</td>\n",
       "      <td>66.0</td>\n",
       "      <td>Mkt&amp;HR</td>\n",
       "      <td>59.43</td>\n",
       "      <td>Not Placed</td>\n",
       "      <td>NaN</td>\n",
       "    </tr>\n",
       "    <tr>\n",
       "      <th>4</th>\n",
       "      <td>5</td>\n",
       "      <td>M</td>\n",
       "      <td>85.80</td>\n",
       "      <td>Central</td>\n",
       "      <td>73.60</td>\n",
       "      <td>Central</td>\n",
       "      <td>Commerce</td>\n",
       "      <td>73.30</td>\n",
       "      <td>Comm&amp;Mgmt</td>\n",
       "      <td>No</td>\n",
       "      <td>96.8</td>\n",
       "      <td>Mkt&amp;Fin</td>\n",
       "      <td>55.50</td>\n",
       "      <td>Placed</td>\n",
       "      <td>425000.0</td>\n",
       "    </tr>\n",
       "    <tr>\n",
       "      <th>...</th>\n",
       "      <td>...</td>\n",
       "      <td>...</td>\n",
       "      <td>...</td>\n",
       "      <td>...</td>\n",
       "      <td>...</td>\n",
       "      <td>...</td>\n",
       "      <td>...</td>\n",
       "      <td>...</td>\n",
       "      <td>...</td>\n",
       "      <td>...</td>\n",
       "      <td>...</td>\n",
       "      <td>...</td>\n",
       "      <td>...</td>\n",
       "      <td>...</td>\n",
       "      <td>...</td>\n",
       "    </tr>\n",
       "    <tr>\n",
       "      <th>210</th>\n",
       "      <td>211</td>\n",
       "      <td>M</td>\n",
       "      <td>80.60</td>\n",
       "      <td>Others</td>\n",
       "      <td>82.00</td>\n",
       "      <td>Others</td>\n",
       "      <td>Commerce</td>\n",
       "      <td>77.60</td>\n",
       "      <td>Comm&amp;Mgmt</td>\n",
       "      <td>No</td>\n",
       "      <td>91.0</td>\n",
       "      <td>Mkt&amp;Fin</td>\n",
       "      <td>74.49</td>\n",
       "      <td>Placed</td>\n",
       "      <td>400000.0</td>\n",
       "    </tr>\n",
       "    <tr>\n",
       "      <th>211</th>\n",
       "      <td>212</td>\n",
       "      <td>M</td>\n",
       "      <td>58.00</td>\n",
       "      <td>Others</td>\n",
       "      <td>60.00</td>\n",
       "      <td>Others</td>\n",
       "      <td>Science</td>\n",
       "      <td>72.00</td>\n",
       "      <td>Sci&amp;Tech</td>\n",
       "      <td>No</td>\n",
       "      <td>74.0</td>\n",
       "      <td>Mkt&amp;Fin</td>\n",
       "      <td>53.62</td>\n",
       "      <td>Placed</td>\n",
       "      <td>275000.0</td>\n",
       "    </tr>\n",
       "    <tr>\n",
       "      <th>212</th>\n",
       "      <td>213</td>\n",
       "      <td>M</td>\n",
       "      <td>67.00</td>\n",
       "      <td>Others</td>\n",
       "      <td>67.00</td>\n",
       "      <td>Others</td>\n",
       "      <td>Commerce</td>\n",
       "      <td>73.00</td>\n",
       "      <td>Comm&amp;Mgmt</td>\n",
       "      <td>Yes</td>\n",
       "      <td>59.0</td>\n",
       "      <td>Mkt&amp;Fin</td>\n",
       "      <td>69.72</td>\n",
       "      <td>Placed</td>\n",
       "      <td>295000.0</td>\n",
       "    </tr>\n",
       "    <tr>\n",
       "      <th>213</th>\n",
       "      <td>214</td>\n",
       "      <td>F</td>\n",
       "      <td>74.00</td>\n",
       "      <td>Others</td>\n",
       "      <td>66.00</td>\n",
       "      <td>Others</td>\n",
       "      <td>Commerce</td>\n",
       "      <td>58.00</td>\n",
       "      <td>Comm&amp;Mgmt</td>\n",
       "      <td>No</td>\n",
       "      <td>70.0</td>\n",
       "      <td>Mkt&amp;HR</td>\n",
       "      <td>60.23</td>\n",
       "      <td>Placed</td>\n",
       "      <td>204000.0</td>\n",
       "    </tr>\n",
       "    <tr>\n",
       "      <th>214</th>\n",
       "      <td>215</td>\n",
       "      <td>M</td>\n",
       "      <td>62.00</td>\n",
       "      <td>Central</td>\n",
       "      <td>58.00</td>\n",
       "      <td>Others</td>\n",
       "      <td>Science</td>\n",
       "      <td>53.00</td>\n",
       "      <td>Comm&amp;Mgmt</td>\n",
       "      <td>No</td>\n",
       "      <td>89.0</td>\n",
       "      <td>Mkt&amp;HR</td>\n",
       "      <td>60.22</td>\n",
       "      <td>Not Placed</td>\n",
       "      <td>NaN</td>\n",
       "    </tr>\n",
       "  </tbody>\n",
       "</table>\n",
       "<p>215 rows × 15 columns</p>\n",
       "</div>"
      ],
      "text/plain": [
       "     sl_no gender  ssc_p    ssc_b  hsc_p    hsc_b     hsc_s  degree_p  \\\n",
       "0        1      M  67.00   Others  91.00   Others  Commerce     58.00   \n",
       "1        2      M  79.33  Central  78.33   Others   Science     77.48   \n",
       "2        3      M  65.00  Central  68.00  Central      Arts     64.00   \n",
       "3        4      M  56.00  Central  52.00  Central   Science     52.00   \n",
       "4        5      M  85.80  Central  73.60  Central  Commerce     73.30   \n",
       "..     ...    ...    ...      ...    ...      ...       ...       ...   \n",
       "210    211      M  80.60   Others  82.00   Others  Commerce     77.60   \n",
       "211    212      M  58.00   Others  60.00   Others   Science     72.00   \n",
       "212    213      M  67.00   Others  67.00   Others  Commerce     73.00   \n",
       "213    214      F  74.00   Others  66.00   Others  Commerce     58.00   \n",
       "214    215      M  62.00  Central  58.00   Others   Science     53.00   \n",
       "\n",
       "      degree_t workex  etest_p specialisation  mba_p      status    salary  \n",
       "0     Sci&Tech     No     55.0         Mkt&HR  58.80      Placed  270000.0  \n",
       "1     Sci&Tech    Yes     86.5        Mkt&Fin  66.28      Placed  200000.0  \n",
       "2    Comm&Mgmt     No     75.0        Mkt&Fin  57.80      Placed  250000.0  \n",
       "3     Sci&Tech     No     66.0         Mkt&HR  59.43  Not Placed       NaN  \n",
       "4    Comm&Mgmt     No     96.8        Mkt&Fin  55.50      Placed  425000.0  \n",
       "..         ...    ...      ...            ...    ...         ...       ...  \n",
       "210  Comm&Mgmt     No     91.0        Mkt&Fin  74.49      Placed  400000.0  \n",
       "211   Sci&Tech     No     74.0        Mkt&Fin  53.62      Placed  275000.0  \n",
       "212  Comm&Mgmt    Yes     59.0        Mkt&Fin  69.72      Placed  295000.0  \n",
       "213  Comm&Mgmt     No     70.0         Mkt&HR  60.23      Placed  204000.0  \n",
       "214  Comm&Mgmt     No     89.0         Mkt&HR  60.22  Not Placed       NaN  \n",
       "\n",
       "[215 rows x 15 columns]"
      ]
     },
     "execution_count": 3,
     "metadata": {},
     "output_type": "execute_result"
    }
   ],
   "source": [
    "dataset"
   ]
  },
  {
   "cell_type": "code",
   "execution_count": 22,
   "id": "76380361-c84c-476d-8ba2-f82c1a939187",
   "metadata": {},
   "outputs": [],
   "source": [
    "#From this dataset, seperate Qualitative and Quantitative Data seperately using a function. \n",
    "#Before that, as a beginner we should check line by line execution and then write the final function.\n",
    "#Whereas, Object - Qualitative, int and float - Quantitative"
   ]
  },
  {
   "cell_type": "code",
   "execution_count": 4,
   "id": "fd23771f-085d-4ae9-9180-1164d57143e2",
   "metadata": {},
   "outputs": [
    {
     "name": "stdout",
     "output_type": "stream",
     "text": [
      "<class 'pandas.core.frame.DataFrame'>\n",
      "RangeIndex: 215 entries, 0 to 214\n",
      "Data columns (total 15 columns):\n",
      " #   Column          Non-Null Count  Dtype  \n",
      "---  ------          --------------  -----  \n",
      " 0   sl_no           215 non-null    int64  \n",
      " 1   gender          215 non-null    object \n",
      " 2   ssc_p           215 non-null    float64\n",
      " 3   ssc_b           215 non-null    object \n",
      " 4   hsc_p           215 non-null    float64\n",
      " 5   hsc_b           215 non-null    object \n",
      " 6   hsc_s           215 non-null    object \n",
      " 7   degree_p        215 non-null    float64\n",
      " 8   degree_t        215 non-null    object \n",
      " 9   workex          215 non-null    object \n",
      " 10  etest_p         215 non-null    float64\n",
      " 11  specialisation  215 non-null    object \n",
      " 12  mba_p           215 non-null    float64\n",
      " 13  status          215 non-null    object \n",
      " 14  salary          148 non-null    float64\n",
      "dtypes: float64(6), int64(1), object(8)\n",
      "memory usage: 25.3+ KB\n"
     ]
    }
   ],
   "source": [
    "#Gets all the information about the dataset\n",
    "dataset.info()"
   ]
  },
  {
   "cell_type": "code",
   "execution_count": 5,
   "id": "cf49409a-0de7-497a-b634-449455dbc915",
   "metadata": {},
   "outputs": [
    {
     "data": {
      "text/plain": [
       "Index(['sl_no', 'gender', 'ssc_p', 'ssc_b', 'hsc_p', 'hsc_b', 'hsc_s',\n",
       "       'degree_p', 'degree_t', 'workex', 'etest_p', 'specialisation', 'mba_p',\n",
       "       'status', 'salary'],\n",
       "      dtype='object')"
      ]
     },
     "execution_count": 5,
     "metadata": {},
     "output_type": "execute_result"
    }
   ],
   "source": [
    "dataset.columns"
   ]
  },
  {
   "cell_type": "code",
   "execution_count": 20,
   "id": "d6e2c515-4e22-4ca3-93e6-071207736954",
   "metadata": {},
   "outputs": [],
   "source": [
    "#dir(dataset)"
   ]
  },
  {
   "cell_type": "code",
   "execution_count": 7,
   "id": "1cca8e93-5cfa-4164-b9e4-bec957399769",
   "metadata": {},
   "outputs": [
    {
     "data": {
      "text/plain": [
       "sl_no               int64\n",
       "gender             object\n",
       "ssc_p             float64\n",
       "ssc_b              object\n",
       "hsc_p             float64\n",
       "hsc_b              object\n",
       "hsc_s              object\n",
       "degree_p          float64\n",
       "degree_t           object\n",
       "workex             object\n",
       "etest_p           float64\n",
       "specialisation     object\n",
       "mba_p             float64\n",
       "status             object\n",
       "salary            float64\n",
       "dtype: object"
      ]
     },
     "execution_count": 7,
     "metadata": {},
     "output_type": "execute_result"
    }
   ],
   "source": [
    "#'dataset.dtypes' returns the datatype of each column in the dataset\n",
    "dataset.dtypes"
   ]
  },
  {
   "cell_type": "code",
   "execution_count": 12,
   "id": "59f2046d-5ecc-4108-a17f-cfdc8c95c9ac",
   "metadata": {},
   "outputs": [
    {
     "data": {
      "text/plain": [
       "dtype('O')"
      ]
     },
     "execution_count": 12,
     "metadata": {},
     "output_type": "execute_result"
    }
   ],
   "source": [
    "dataset[\"gender\"].dtypes"
   ]
  },
  {
   "cell_type": "code",
   "execution_count": 13,
   "id": "7f2f7d4b-33e0-497f-bf07-22fd4c75e43c",
   "metadata": {},
   "outputs": [
    {
     "data": {
      "text/plain": [
       "dtype('float64')"
      ]
     },
     "execution_count": 13,
     "metadata": {},
     "output_type": "execute_result"
    }
   ],
   "source": [
    "dataset[\"ssc_p\"].dtypes"
   ]
  },
  {
   "cell_type": "code",
   "execution_count": 11,
   "id": "21ef562a-68e6-4d8c-a24f-2b2f2e8a46b7",
   "metadata": {},
   "outputs": [
    {
     "name": "stdout",
     "output_type": "stream",
     "text": [
      "sl_no\n",
      "gender\n",
      "ssc_p\n",
      "ssc_b\n",
      "hsc_p\n",
      "hsc_b\n",
      "hsc_s\n",
      "degree_p\n",
      "degree_t\n",
      "workex\n",
      "etest_p\n",
      "specialisation\n",
      "mba_p\n",
      "status\n",
      "salary\n"
     ]
    }
   ],
   "source": [
    "#Check that for loop gets the desired columns from the dataset\n",
    "for ColumnName in dataset.columns:\n",
    "    print(ColumnName)"
   ]
  },
  {
   "cell_type": "code",
   "execution_count": 14,
   "id": "b71e6a51-f0a7-4b1a-a58f-f9c305c7b20a",
   "metadata": {},
   "outputs": [
    {
     "name": "stdout",
     "output_type": "stream",
     "text": [
      "Quan\n"
     ]
    }
   ],
   "source": [
    "#'if' statement Checks the datatype of the column belongs to object then prints 'Qual' or 'else' executes and prints 'Quan', it belongs to 'int' or 'float'\n",
    "if dataset[\"ssc_p\"].dtype == \"O\":\n",
    "    print (\"Qual\")\n",
    "else:\n",
    "    print(\"Quan\")"
   ]
  },
  {
   "cell_type": "code",
   "execution_count": 27,
   "id": "709e1155-7949-4cf6-9575-7dcc6d362292",
   "metadata": {},
   "outputs": [],
   "source": [
    "quan=[]\n",
    "qual=[]"
   ]
  },
  {
   "cell_type": "code",
   "execution_count": 16,
   "id": "b6069f36-7b93-43f3-85a5-73fc1fd41bba",
   "metadata": {},
   "outputs": [
    {
     "name": "stdout",
     "output_type": "stream",
     "text": [
      "Quan\n",
      "Qual\n",
      "Quan\n",
      "Qual\n",
      "Quan\n",
      "Qual\n",
      "Qual\n",
      "Quan\n",
      "Qual\n",
      "Qual\n",
      "Quan\n",
      "Qual\n",
      "Quan\n",
      "Qual\n",
      "Quan\n"
     ]
    }
   ],
   "source": [
    "quan=[]\n",
    "qual=[]\n",
    "for ColumnName in dataset.columns:\n",
    "    if dataset[ColumnName].dtype == \"O\":\n",
    "        print (\"Qual\")\n",
    "    else:\n",
    "        print(\"Quan\")"
   ]
  },
  {
   "cell_type": "code",
   "execution_count": 17,
   "id": "fb63a5d0-ba5f-4526-af2d-21ce7534f603",
   "metadata": {},
   "outputs": [],
   "source": [
    "quan=[]\n",
    "qual=[]\n",
    "for ColumnName in dataset.columns:\n",
    "    if dataset[ColumnName].dtype == \"O\":\n",
    "        qual.append(ColumnName)\n",
    "    else:\n",
    "        quan.append(ColumnName)"
   ]
  },
  {
   "cell_type": "code",
   "execution_count": 18,
   "id": "bad770c5-a45e-4ca1-9bd2-0ab58d2a5d75",
   "metadata": {},
   "outputs": [
    {
     "data": {
      "text/plain": [
       "['gender',\n",
       " 'ssc_b',\n",
       " 'hsc_b',\n",
       " 'hsc_s',\n",
       " 'degree_t',\n",
       " 'workex',\n",
       " 'specialisation',\n",
       " 'status']"
      ]
     },
     "execution_count": 18,
     "metadata": {},
     "output_type": "execute_result"
    }
   ],
   "source": [
    "qual"
   ]
  },
  {
   "cell_type": "code",
   "execution_count": 19,
   "id": "8751d6b6-7b25-4d47-8976-ac75b91e815f",
   "metadata": {},
   "outputs": [
    {
     "data": {
      "text/plain": [
       "['sl_no', 'ssc_p', 'hsc_p', 'degree_p', 'etest_p', 'mba_p', 'salary']"
      ]
     },
     "execution_count": 19,
     "metadata": {},
     "output_type": "execute_result"
    }
   ],
   "source": [
    "quan"
   ]
  },
  {
   "cell_type": "code",
   "execution_count": 47,
   "id": "167b8761-9828-44aa-8316-69a35ec6dba0",
   "metadata": {},
   "outputs": [],
   "source": [
    "#Creating Function\n",
    "def quanQual(dataset):\n",
    "    quan=[]\n",
    "    qual=[]\n",
    "    for ColumnName in dataset.columns:\n",
    "        if dataset[ColumnName].dtype == \"O\":\n",
    "            qual.append(ColumnName)\n",
    "        else:\n",
    "            quan.append(ColumnName)\n",
    "    return quan, qual   #we can return n number of variable as much as need."
   ]
  },
  {
   "cell_type": "code",
   "execution_count": 41,
   "id": "294ba407-050a-4ee6-893e-2e1d03df6953",
   "metadata": {},
   "outputs": [
    {
     "data": {
      "text/plain": [
       "(['sl_no', 'ssc_p', 'hsc_p', 'degree_p', 'etest_p', 'mba_p', 'salary'],\n",
       " ['gender',\n",
       "  'ssc_b',\n",
       "  'hsc_b',\n",
       "  'hsc_s',\n",
       "  'degree_t',\n",
       "  'workex',\n",
       "  'specialisation',\n",
       "  'status'])"
      ]
     },
     "execution_count": 41,
     "metadata": {},
     "output_type": "execute_result"
    }
   ],
   "source": [
    "#Function Call\n",
    "quanQual(dataset)"
   ]
  },
  {
   "cell_type": "code",
   "execution_count": 44,
   "id": "2550d47f-30f8-4c1a-ae85-781368d8f25d",
   "metadata": {},
   "outputs": [],
   "source": [
    "#Function Call and returns value to the variables\n",
    "quan,qual=quanQual(dataset)"
   ]
  },
  {
   "cell_type": "code",
   "execution_count": 45,
   "id": "94fa419b-9d45-4636-a3be-53be7952e0a7",
   "metadata": {},
   "outputs": [
    {
     "data": {
      "text/plain": [
       "['gender',\n",
       " 'ssc_b',\n",
       " 'hsc_b',\n",
       " 'hsc_s',\n",
       " 'degree_t',\n",
       " 'workex',\n",
       " 'specialisation',\n",
       " 'status']"
      ]
     },
     "execution_count": 45,
     "metadata": {},
     "output_type": "execute_result"
    }
   ],
   "source": [
    "qual"
   ]
  },
  {
   "cell_type": "code",
   "execution_count": 46,
   "id": "a46386a2-784a-48b5-9aba-11dd848bd544",
   "metadata": {},
   "outputs": [
    {
     "data": {
      "text/plain": [
       "['sl_no', 'ssc_p', 'hsc_p', 'degree_p', 'etest_p', 'mba_p', 'salary']"
      ]
     },
     "execution_count": 46,
     "metadata": {},
     "output_type": "execute_result"
    }
   ],
   "source": [
    "quan"
   ]
  },
  {
   "cell_type": "code",
   "execution_count": null,
   "id": "1ff3f80b-b220-4d44-847d-d784ad6025c7",
   "metadata": {},
   "outputs": [],
   "source": []
  }
 ],
 "metadata": {
  "kernelspec": {
   "display_name": "Python 3 (ipykernel)",
   "language": "python",
   "name": "python3"
  },
  "language_info": {
   "codemirror_mode": {
    "name": "ipython",
    "version": 3
   },
   "file_extension": ".py",
   "mimetype": "text/x-python",
   "name": "python",
   "nbconvert_exporter": "python",
   "pygments_lexer": "ipython3",
   "version": "3.11.5"
  }
 },
 "nbformat": 4,
 "nbformat_minor": 5
}
